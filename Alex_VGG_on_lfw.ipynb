{
 "cells": [
  {
   "cell_type": "markdown",
   "id": "965e19eb",
   "metadata": {},
   "source": [
    "# AlexNet"
   ]
  },
  {
   "cell_type": "code",
   "execution_count": 45,
   "id": "5283aa61",
   "metadata": {},
   "outputs": [],
   "source": [
    "import torch\n",
    "import torch.nn as nn"
   ]
  },
  {
   "cell_type": "code",
   "execution_count": 46,
   "id": "8f0d03b3",
   "metadata": {},
   "outputs": [
    {
     "name": "stderr",
     "output_type": "stream",
     "text": [
      "Using cache found in /Users/boxtim/.cache/torch/hub/pytorch_vision_v0.10.0\n"
     ]
    },
    {
     "data": {
      "text/plain": [
       "AlexNet(\n",
       "  (features): Sequential(\n",
       "    (0): Conv2d(3, 64, kernel_size=(11, 11), stride=(4, 4), padding=(2, 2))\n",
       "    (1): ReLU(inplace=True)\n",
       "    (2): MaxPool2d(kernel_size=3, stride=2, padding=0, dilation=1, ceil_mode=False)\n",
       "    (3): Conv2d(64, 192, kernel_size=(5, 5), stride=(1, 1), padding=(2, 2))\n",
       "    (4): ReLU(inplace=True)\n",
       "    (5): MaxPool2d(kernel_size=3, stride=2, padding=0, dilation=1, ceil_mode=False)\n",
       "    (6): Conv2d(192, 384, kernel_size=(3, 3), stride=(1, 1), padding=(1, 1))\n",
       "    (7): ReLU(inplace=True)\n",
       "    (8): Conv2d(384, 256, kernel_size=(3, 3), stride=(1, 1), padding=(1, 1))\n",
       "    (9): ReLU(inplace=True)\n",
       "    (10): Conv2d(256, 256, kernel_size=(3, 3), stride=(1, 1), padding=(1, 1))\n",
       "    (11): ReLU(inplace=True)\n",
       "    (12): MaxPool2d(kernel_size=3, stride=2, padding=0, dilation=1, ceil_mode=False)\n",
       "  )\n",
       "  (avgpool): AdaptiveAvgPool2d(output_size=(6, 6))\n",
       "  (classifier): Sequential(\n",
       "    (0): Dropout(p=0.5, inplace=False)\n",
       "    (1): Linear(in_features=9216, out_features=4096, bias=True)\n",
       "    (2): ReLU(inplace=True)\n",
       "    (3): Dropout(p=0.5, inplace=False)\n",
       "    (4): Linear(in_features=4096, out_features=4096, bias=True)\n",
       "    (5): ReLU(inplace=True)\n",
       "    (6): Linear(in_features=4096, out_features=1000, bias=True)\n",
       "  )\n",
       ")"
      ]
     },
     "execution_count": 46,
     "metadata": {},
     "output_type": "execute_result"
    }
   ],
   "source": [
    "md1 = torch.hub.load('pytorch/vision:v0.10.0', 'alexnet', pretrained=True)\n",
    "md1.eval()"
   ]
  },
  {
   "cell_type": "code",
   "execution_count": 47,
   "id": "fcc464e4",
   "metadata": {},
   "outputs": [
    {
     "data": {
      "text/plain": [
       "Sequential(\n",
       "  (0): Dropout(p=0.5, inplace=False)\n",
       "  (1): Linear(in_features=9216, out_features=4096, bias=True)\n",
       "  (2): ReLU(inplace=True)\n",
       "  (3): Dropout(p=0.5, inplace=False)\n",
       "  (4): Linear(in_features=4096, out_features=4096, bias=True)\n",
       "  (5): ReLU(inplace=True)\n",
       ")"
      ]
     },
     "execution_count": 47,
     "metadata": {},
     "output_type": "execute_result"
    }
   ],
   "source": [
    "nn.Sequential(*list(md1.classifier.children())[:-1])"
   ]
  },
  {
   "cell_type": "markdown",
   "id": "67ea1978",
   "metadata": {},
   "source": [
    "## 1. Fine Tune the AlexNet by dropping the last layer"
   ]
  },
  {
   "cell_type": "code",
   "execution_count": 48,
   "id": "02fa0837",
   "metadata": {},
   "outputs": [
    {
     "data": {
      "text/plain": [
       "AlexNet(\n",
       "  (features): Sequential(\n",
       "    (0): Conv2d(3, 64, kernel_size=(11, 11), stride=(4, 4), padding=(2, 2))\n",
       "    (1): ReLU(inplace=True)\n",
       "    (2): MaxPool2d(kernel_size=3, stride=2, padding=0, dilation=1, ceil_mode=False)\n",
       "    (3): Conv2d(64, 192, kernel_size=(5, 5), stride=(1, 1), padding=(2, 2))\n",
       "    (4): ReLU(inplace=True)\n",
       "    (5): MaxPool2d(kernel_size=3, stride=2, padding=0, dilation=1, ceil_mode=False)\n",
       "    (6): Conv2d(192, 384, kernel_size=(3, 3), stride=(1, 1), padding=(1, 1))\n",
       "    (7): ReLU(inplace=True)\n",
       "    (8): Conv2d(384, 256, kernel_size=(3, 3), stride=(1, 1), padding=(1, 1))\n",
       "    (9): ReLU(inplace=True)\n",
       "    (10): Conv2d(256, 256, kernel_size=(3, 3), stride=(1, 1), padding=(1, 1))\n",
       "    (11): ReLU(inplace=True)\n",
       "    (12): MaxPool2d(kernel_size=3, stride=2, padding=0, dilation=1, ceil_mode=False)\n",
       "  )\n",
       "  (avgpool): AdaptiveAvgPool2d(output_size=(6, 6))\n",
       "  (classifier): Sequential(\n",
       "    (0): Dropout(p=0.5, inplace=False)\n",
       "    (1): Linear(in_features=9216, out_features=4096, bias=True)\n",
       "    (2): ReLU(inplace=True)\n",
       "    (3): Dropout(p=0.5, inplace=False)\n",
       "    (4): Linear(in_features=4096, out_features=4096, bias=True)\n",
       "    (5): ReLU(inplace=True)\n",
       "  )\n",
       ")"
      ]
     },
     "execution_count": 48,
     "metadata": {},
     "output_type": "execute_result"
    }
   ],
   "source": [
    "md1.classifier = nn.Sequential(*list(md1.classifier.children())[:-1])\n",
    "md1.eval()"
   ]
  },
  {
   "cell_type": "markdown",
   "id": "44d99b20",
   "metadata": {},
   "source": [
    "# VGG16"
   ]
  },
  {
   "cell_type": "code",
   "execution_count": 6,
   "id": "a0e1802c",
   "metadata": {},
   "outputs": [],
   "source": [
    "import torchvision.models as models"
   ]
  },
  {
   "cell_type": "code",
   "execution_count": 49,
   "id": "f8125df8",
   "metadata": {},
   "outputs": [
    {
     "data": {
      "text/plain": [
       "VGG(\n",
       "  (features): Sequential(\n",
       "    (0): Conv2d(3, 64, kernel_size=(3, 3), stride=(1, 1), padding=(1, 1))\n",
       "    (1): ReLU(inplace=True)\n",
       "    (2): Conv2d(64, 64, kernel_size=(3, 3), stride=(1, 1), padding=(1, 1))\n",
       "    (3): ReLU(inplace=True)\n",
       "    (4): MaxPool2d(kernel_size=2, stride=2, padding=0, dilation=1, ceil_mode=False)\n",
       "    (5): Conv2d(64, 128, kernel_size=(3, 3), stride=(1, 1), padding=(1, 1))\n",
       "    (6): ReLU(inplace=True)\n",
       "    (7): Conv2d(128, 128, kernel_size=(3, 3), stride=(1, 1), padding=(1, 1))\n",
       "    (8): ReLU(inplace=True)\n",
       "    (9): MaxPool2d(kernel_size=2, stride=2, padding=0, dilation=1, ceil_mode=False)\n",
       "    (10): Conv2d(128, 256, kernel_size=(3, 3), stride=(1, 1), padding=(1, 1))\n",
       "    (11): ReLU(inplace=True)\n",
       "    (12): Conv2d(256, 256, kernel_size=(3, 3), stride=(1, 1), padding=(1, 1))\n",
       "    (13): ReLU(inplace=True)\n",
       "    (14): Conv2d(256, 256, kernel_size=(3, 3), stride=(1, 1), padding=(1, 1))\n",
       "    (15): ReLU(inplace=True)\n",
       "    (16): MaxPool2d(kernel_size=2, stride=2, padding=0, dilation=1, ceil_mode=False)\n",
       "    (17): Conv2d(256, 512, kernel_size=(3, 3), stride=(1, 1), padding=(1, 1))\n",
       "    (18): ReLU(inplace=True)\n",
       "    (19): Conv2d(512, 512, kernel_size=(3, 3), stride=(1, 1), padding=(1, 1))\n",
       "    (20): ReLU(inplace=True)\n",
       "    (21): Conv2d(512, 512, kernel_size=(3, 3), stride=(1, 1), padding=(1, 1))\n",
       "    (22): ReLU(inplace=True)\n",
       "    (23): MaxPool2d(kernel_size=2, stride=2, padding=0, dilation=1, ceil_mode=False)\n",
       "    (24): Conv2d(512, 512, kernel_size=(3, 3), stride=(1, 1), padding=(1, 1))\n",
       "    (25): ReLU(inplace=True)\n",
       "    (26): Conv2d(512, 512, kernel_size=(3, 3), stride=(1, 1), padding=(1, 1))\n",
       "    (27): ReLU(inplace=True)\n",
       "    (28): Conv2d(512, 512, kernel_size=(3, 3), stride=(1, 1), padding=(1, 1))\n",
       "    (29): ReLU(inplace=True)\n",
       "    (30): MaxPool2d(kernel_size=2, stride=2, padding=0, dilation=1, ceil_mode=False)\n",
       "  )\n",
       "  (avgpool): AdaptiveAvgPool2d(output_size=(7, 7))\n",
       "  (classifier): Sequential(\n",
       "    (0): Linear(in_features=25088, out_features=4096, bias=True)\n",
       "    (1): ReLU(inplace=True)\n",
       "    (2): Dropout(p=0.5, inplace=False)\n",
       "    (3): Linear(in_features=4096, out_features=4096, bias=True)\n",
       "    (4): ReLU(inplace=True)\n",
       "    (5): Dropout(p=0.5, inplace=False)\n",
       "    (6): Linear(in_features=4096, out_features=1000, bias=True)\n",
       "  )\n",
       ")"
      ]
     },
     "execution_count": 49,
     "metadata": {},
     "output_type": "execute_result"
    }
   ],
   "source": [
    "VGG16 = models.vgg16(pretrained = True)\n",
    "device = torch.device(\"cuda\" if torch.cuda.is_available() else \"cpu\")\n",
    "VGG16.eval()"
   ]
  },
  {
   "cell_type": "markdown",
   "id": "21560fd7",
   "metadata": {},
   "source": [
    "## 1. Fine Tune the VGG16 by dropping the last layer"
   ]
  },
  {
   "cell_type": "code",
   "execution_count": 50,
   "id": "e08c4696",
   "metadata": {},
   "outputs": [
    {
     "data": {
      "text/plain": [
       "VGG(\n",
       "  (features): Sequential(\n",
       "    (0): Conv2d(3, 64, kernel_size=(3, 3), stride=(1, 1), padding=(1, 1))\n",
       "    (1): ReLU(inplace=True)\n",
       "    (2): Conv2d(64, 64, kernel_size=(3, 3), stride=(1, 1), padding=(1, 1))\n",
       "    (3): ReLU(inplace=True)\n",
       "    (4): MaxPool2d(kernel_size=2, stride=2, padding=0, dilation=1, ceil_mode=False)\n",
       "    (5): Conv2d(64, 128, kernel_size=(3, 3), stride=(1, 1), padding=(1, 1))\n",
       "    (6): ReLU(inplace=True)\n",
       "    (7): Conv2d(128, 128, kernel_size=(3, 3), stride=(1, 1), padding=(1, 1))\n",
       "    (8): ReLU(inplace=True)\n",
       "    (9): MaxPool2d(kernel_size=2, stride=2, padding=0, dilation=1, ceil_mode=False)\n",
       "    (10): Conv2d(128, 256, kernel_size=(3, 3), stride=(1, 1), padding=(1, 1))\n",
       "    (11): ReLU(inplace=True)\n",
       "    (12): Conv2d(256, 256, kernel_size=(3, 3), stride=(1, 1), padding=(1, 1))\n",
       "    (13): ReLU(inplace=True)\n",
       "    (14): Conv2d(256, 256, kernel_size=(3, 3), stride=(1, 1), padding=(1, 1))\n",
       "    (15): ReLU(inplace=True)\n",
       "    (16): MaxPool2d(kernel_size=2, stride=2, padding=0, dilation=1, ceil_mode=False)\n",
       "    (17): Conv2d(256, 512, kernel_size=(3, 3), stride=(1, 1), padding=(1, 1))\n",
       "    (18): ReLU(inplace=True)\n",
       "    (19): Conv2d(512, 512, kernel_size=(3, 3), stride=(1, 1), padding=(1, 1))\n",
       "    (20): ReLU(inplace=True)\n",
       "    (21): Conv2d(512, 512, kernel_size=(3, 3), stride=(1, 1), padding=(1, 1))\n",
       "    (22): ReLU(inplace=True)\n",
       "    (23): MaxPool2d(kernel_size=2, stride=2, padding=0, dilation=1, ceil_mode=False)\n",
       "    (24): Conv2d(512, 512, kernel_size=(3, 3), stride=(1, 1), padding=(1, 1))\n",
       "    (25): ReLU(inplace=True)\n",
       "    (26): Conv2d(512, 512, kernel_size=(3, 3), stride=(1, 1), padding=(1, 1))\n",
       "    (27): ReLU(inplace=True)\n",
       "    (28): Conv2d(512, 512, kernel_size=(3, 3), stride=(1, 1), padding=(1, 1))\n",
       "    (29): ReLU(inplace=True)\n",
       "    (30): MaxPool2d(kernel_size=2, stride=2, padding=0, dilation=1, ceil_mode=False)\n",
       "  )\n",
       "  (avgpool): AdaptiveAvgPool2d(output_size=(7, 7))\n",
       "  (classifier): Sequential(\n",
       "    (0): Linear(in_features=25088, out_features=4096, bias=True)\n",
       "    (1): ReLU(inplace=True)\n",
       "    (2): Dropout(p=0.5, inplace=False)\n",
       "    (3): Linear(in_features=4096, out_features=4096, bias=True)\n",
       "    (4): ReLU(inplace=True)\n",
       "    (5): Dropout(p=0.5, inplace=False)\n",
       "  )\n",
       ")"
      ]
     },
     "execution_count": 50,
     "metadata": {},
     "output_type": "execute_result"
    }
   ],
   "source": [
    "VGG16.classifier = nn.Sequential(*list(VGG16.classifier.children())[:-1])\n",
    "VGG16.eval()"
   ]
  },
  {
   "cell_type": "markdown",
   "id": "89ce3444",
   "metadata": {},
   "source": [
    "# Data LFW"
   ]
  },
  {
   "cell_type": "code",
   "execution_count": 10,
   "id": "be5cfbf2",
   "metadata": {},
   "outputs": [],
   "source": [
    "from sklearn.datasets import fetch_lfw_pairs\n",
    "import matplotlib.pyplot as plt"
   ]
  },
  {
   "cell_type": "code",
   "execution_count": 11,
   "id": "0ef14c95",
   "metadata": {},
   "outputs": [],
   "source": [
    "lfw_train = fetch_lfw_pairs(subset = 'train', color = True)\n",
    "lfw_test = fetch_lfw_pairs(subset = 'test', color = True)"
   ]
  },
  {
   "cell_type": "code",
   "execution_count": 12,
   "id": "105e3bef",
   "metadata": {},
   "outputs": [
    {
     "name": "stdout",
     "output_type": "stream",
     "text": [
      "(2200, 2, 62, 47, 3)\n",
      "(1000, 2, 62, 47, 3)\n"
     ]
    }
   ],
   "source": [
    "# check for data shape\n",
    "print(lfw_train.pairs.shape)\n",
    "print(lfw_test.pairs.shape)"
   ]
  },
  {
   "cell_type": "code",
   "execution_count": 14,
   "id": "92fcbc80",
   "metadata": {},
   "outputs": [
    {
     "data": {
      "text/plain": [
       "<matplotlib.image.AxesImage at 0x7f822ea50710>"
      ]
     },
     "execution_count": 14,
     "metadata": {},
     "output_type": "execute_result"
    },
    {
     "data": {
      "image/png": "[encoded data removed]",
      "text/plain": [
       "<Figure size 432x288 with 1 Axes>"
      ]
     },
     "metadata": {
      "needs_background": "light"
     },
     "output_type": "display_data"
    }
   ],
   "source": [
    "# Check one sample data\n",
    "im1 = lfw_train.pairs[10,0,:,:,:]\n",
    "im2 = lfw_train.pairs[10,1,:,:,:]\n",
    "plt.imshow(im2.astype('uint8'))"
   ]
  },
  {
   "cell_type": "code",
   "execution_count": 15,
   "id": "1bea4ed4",
   "metadata": {},
   "outputs": [
    {
     "data": {
      "text/plain": [
       "<matplotlib.image.AxesImage at 0x7f822ea3cc10>"
      ]
     },
     "execution_count": 15,
     "metadata": {},
     "output_type": "execute_result"
    },
    {
     "data": {
      "image/png": "[encoded data removed]",
      "text/plain": [
       "<Figure size 432x288 with 1 Axes>"
      ]
     },
     "metadata": {
      "needs_background": "light"
     },
     "output_type": "display_data"
    }
   ],
   "source": [
    "plt.imshow(im1.astype('uint8'))"
   ]
  },
  {
   "cell_type": "code",
   "execution_count": 16,
   "id": "90c5a08c",
   "metadata": {},
   "outputs": [
    {
     "name": "stdout",
     "output_type": "stream",
     "text": [
      "(2200,)\n",
      "(1000,)\n"
     ]
    }
   ],
   "source": [
    "# Get labels\n",
    "train_labels = lfw_train.target\n",
    "test_labels = lfw_test.target\n",
    "print(train_labels.shape)\n",
    "print(test_labels.shape)"
   ]
  },
  {
   "cell_type": "markdown",
   "id": "caf6bc1d",
   "metadata": {},
   "source": [
    "## Define image preprocess step\n",
    "\n",
    "### AlexNet has the same preprocess as the VGG16"
   ]
  },
  {
   "cell_type": "code",
   "execution_count": 17,
   "id": "8dbde884",
   "metadata": {},
   "outputs": [],
   "source": [
    "# Process Image Data\n",
    "from PIL import Image\n",
    "from torchvision import transforms"
   ]
  },
  {
   "cell_type": "code",
   "execution_count": 18,
   "id": "fd03b0e9",
   "metadata": {},
   "outputs": [],
   "source": [
    "preprocess = transforms.Compose([\n",
    "    transforms.ToPILImage(),\n",
    "    transforms.Resize(256),\n",
    "    transforms.CenterCrop(224),\n",
    "    transforms.ToTensor(),\n",
    "    transforms.Normalize(mean=[0.485, 0.456, 0.406], std=[0.229, 0.224, 0.225]),\n",
    "])\n",
    "\n",
    "#input_tensor = preprocess(input_image)\n",
    "#input_batch = input_tensor.unsqueeze(0)"
   ]
  },
  {
   "cell_type": "markdown",
   "id": "d97f321e",
   "metadata": {},
   "source": [
    "# AlexNet\n",
    "\n",
    "## Model Name: md1"
   ]
  },
  {
   "cell_type": "code",
   "execution_count": 20,
   "id": "ffb793e9",
   "metadata": {},
   "outputs": [],
   "source": [
    "import numpy as np"
   ]
  },
  {
   "cell_type": "markdown",
   "id": "ef2cf49b",
   "metadata": {},
   "source": [
    "### Training Set"
   ]
  },
  {
   "cell_type": "code",
   "execution_count": 51,
   "id": "50e8f15e",
   "metadata": {},
   "outputs": [],
   "source": [
    "train_dist = []\n",
    "for idx in range(train_labels.shape[0]):\n",
    "    im1 = lfw_train.pairs[idx,0,:,:,:]\n",
    "    input_tensor = preprocess(im1.astype(np.uint8))\n",
    "    input_batch = input_tensor.unsqueeze(0)\n",
    "    with torch.no_grad():\n",
    "        output1 = md1(input_batch)\n",
    "    a = output1.numpy()\n",
    "    \n",
    "    im2 = lfw_train.pairs[idx,1,:,:,:]\n",
    "    input_tensor2 = preprocess(im2.astype(np.uint8))\n",
    "    input_batch2 = input_tensor2.unsqueeze(0)\n",
    "    with torch.no_grad():\n",
    "        output2 = md1(input_batch2)\n",
    "    b = output2.numpy()\n",
    "    \n",
    "    dist = np.linalg.norm(a - b)\n",
    "    train_dist.append(dist)"
   ]
  },
  {
   "cell_type": "code",
   "execution_count": 52,
   "id": "fbf0d087",
   "metadata": {},
   "outputs": [
    {
     "name": "stdout",
     "output_type": "stream",
     "text": [
      "2200\n"
     ]
    }
   ],
   "source": [
    "#Check lenghth of the train_dist\n",
    "print(len(train_dist))"
   ]
  },
  {
   "cell_type": "code",
   "execution_count": 53,
   "id": "5be08bc6",
   "metadata": {},
   "outputs": [],
   "source": [
    "#ROC\n",
    "from sklearn import metrics\n",
    "import matplotlib.pyplot as plt"
   ]
  },
  {
   "cell_type": "code",
   "execution_count": 54,
   "id": "b8a5f392",
   "metadata": {},
   "outputs": [
    {
     "data": {
      "image/png": "[encoded data removed]",
      "text/plain": [
       "<Figure size 432x288 with 1 Axes>"
      ]
     },
     "metadata": {
      "needs_background": "light"
     },
     "output_type": "display_data"
    }
   ],
   "source": [
    "fpr, tpr, thresholds = metrics.roc_curve(train_labels, train_dist)\n",
    "plt.plot(fpr,tpr)\n",
    "plt.ylabel('True Positive Rate')\n",
    "plt.xlabel('False Positive Rate')\n",
    "plt.show()"
   ]
  },
  {
   "cell_type": "code",
   "execution_count": 55,
   "id": "081e3453",
   "metadata": {},
   "outputs": [
    {
     "name": "stdout",
     "output_type": "stream",
     "text": [
      "AUC Train Alex 0.3036904958677686\n"
     ]
    }
   ],
   "source": [
    "AUC = metrics.roc_auc_score(train_labels, train_dist)\n",
    "print('AUC Train Alex', AUC)"
   ]
  },
  {
   "cell_type": "markdown",
   "id": "4f3ccfff",
   "metadata": {},
   "source": [
    "### Test Set"
   ]
  },
  {
   "cell_type": "code",
   "execution_count": 27,
   "id": "e04c2970",
   "metadata": {},
   "outputs": [],
   "source": [
    "test_dist = []\n",
    "for idx in range(test_labels.shape[0]):\n",
    "    im1 = lfw_test.pairs[idx,0,:,:,:]\n",
    "    input_tensor = preprocess(im1.astype(np.uint8))\n",
    "    input_batch = input_tensor.unsqueeze(0)\n",
    "    with torch.no_grad():\n",
    "        output1 = Alex(input_batch)\n",
    "    a = output1.numpy()\n",
    "    \n",
    "    im2 = lfw_test.pairs[idx,1,:,:,:]\n",
    "    input_tensor2 = preprocess(im2.astype(np.uint8))\n",
    "    input_batch2 = input_tensor2.unsqueeze(0)\n",
    "    with torch.no_grad():\n",
    "        output2 = Alex(input_batch2)\n",
    "    b = output2.numpy()\n",
    "    \n",
    "    dist = np.linalg.norm(a - b)\n",
    "    test_dist.append(dist)"
   ]
  },
  {
   "cell_type": "code",
   "execution_count": 28,
   "id": "8c272b6f",
   "metadata": {},
   "outputs": [
    {
     "name": "stdout",
     "output_type": "stream",
     "text": [
      "1000\n"
     ]
    }
   ],
   "source": [
    "#Check lenghth of the test_dist\n",
    "print(len(test_dist))"
   ]
  },
  {
   "cell_type": "code",
   "execution_count": 29,
   "id": "c6bd0e54",
   "metadata": {},
   "outputs": [
    {
     "data": {
      "image/png": "[encoded data removed]",
      "text/plain": [
       "<Figure size 432x288 with 1 Axes>"
      ]
     },
     "metadata": {
      "needs_background": "light"
     },
     "output_type": "display_data"
    }
   ],
   "source": [
    "fpr, tpr, thresholds = metrics.roc_curve(test_labels, test_dist)\n",
    "plt.plot(fpr,tpr)\n",
    "plt.ylabel('True Positive Rate')\n",
    "plt.xlabel('False Positive Rate')\n",
    "plt.show()"
   ]
  },
  {
   "cell_type": "code",
   "execution_count": 30,
   "id": "a901edb5",
   "metadata": {},
   "outputs": [
    {
     "name": "stdout",
     "output_type": "stream",
     "text": [
      "AUC Alex for test set 0.31019199999999997\n"
     ]
    }
   ],
   "source": [
    "AUC = metrics.roc_auc_score(test_labels, test_dist)\n",
    "print('AUC Alex for test set', AUC)"
   ]
  },
  {
   "cell_type": "markdown",
   "id": "298f143b",
   "metadata": {},
   "source": [
    "# VGG16 \n",
    "## Model Name: VGG16"
   ]
  },
  {
   "cell_type": "markdown",
   "id": "44f2fbc9",
   "metadata": {},
   "source": [
    "### Train"
   ]
  },
  {
   "cell_type": "code",
   "execution_count": 31,
   "id": "c1335134",
   "metadata": {},
   "outputs": [],
   "source": [
    "vgg_train_dist = []\n",
    "for idx in range(train_labels.shape[0]):\n",
    "    im1 = lfw_train.pairs[idx,0,:,:,:]\n",
    "    input_tensor = preprocess(im1.astype(np.uint8))\n",
    "    input_batch = input_tensor.unsqueeze(0)\n",
    "    with torch.no_grad():\n",
    "        output1 = VGG16(input_batch)\n",
    "    a = output1.numpy()\n",
    "    \n",
    "    im2 = lfw_train.pairs[idx,1,:,:,:]\n",
    "    input_tensor2 = preprocess(im2.astype(np.uint8))\n",
    "    input_batch2 = input_tensor2.unsqueeze(0)\n",
    "    with torch.no_grad():\n",
    "        output2 = VGG16(input_batch2)\n",
    "    b = output2.numpy()\n",
    "    \n",
    "    dist = np.linalg.norm(a - b)\n",
    "    vgg_train_dist.append(dist)"
   ]
  },
  {
   "cell_type": "code",
   "execution_count": 32,
   "id": "86400ed0",
   "metadata": {},
   "outputs": [
    {
     "name": "stdout",
     "output_type": "stream",
     "text": [
      "2200\n"
     ]
    }
   ],
   "source": [
    "#Check lenghth of the train_dist\n",
    "print(len(vgg_train_dist))"
   ]
  },
  {
   "cell_type": "code",
   "execution_count": 33,
   "id": "f198a407",
   "metadata": {},
   "outputs": [
    {
     "data": {
      "image/png": "[encoded data removed]",
      "text/plain": [
       "<Figure size 432x288 with 1 Axes>"
      ]
     },
     "metadata": {
      "needs_background": "light"
     },
     "output_type": "display_data"
    }
   ],
   "source": [
    "fpr, tpr, thresholds = metrics.roc_curve(train_labels, vgg_train_dist)\n",
    "plt.plot(fpr,tpr)\n",
    "plt.ylabel('True Positive Rate')\n",
    "plt.xlabel('False Positive Rate')\n",
    "plt.show()"
   ]
  },
  {
   "cell_type": "code",
   "execution_count": 34,
   "id": "bcf905fe",
   "metadata": {},
   "outputs": [
    {
     "name": "stdout",
     "output_type": "stream",
     "text": [
      "AUC Train VGG 16 0.35530082644628097\n"
     ]
    }
   ],
   "source": [
    "AUC = metrics.roc_auc_score(train_labels, vgg_train_dist)\n",
    "print('AUC Train VGG 16', AUC)"
   ]
  },
  {
   "cell_type": "markdown",
   "id": "5831766d",
   "metadata": {},
   "source": [
    "### Test"
   ]
  },
  {
   "cell_type": "code",
   "execution_count": 56,
   "id": "f08abdd1",
   "metadata": {},
   "outputs": [],
   "source": [
    "vgg_test_dist = []\n",
    "for idx in range(test_labels.shape[0]):\n",
    "    im1 = lfw_test.pairs[idx,0,:,:,:]\n",
    "    input_tensor = preprocess(im1.astype(np.uint8))\n",
    "    input_batch = input_tensor.unsqueeze(0)\n",
    "    with torch.no_grad():\n",
    "        output1 = VGG16(input_batch)\n",
    "    a = output1.numpy()\n",
    "    \n",
    "    im2 = lfw_test.pairs[idx,1,:,:,:]\n",
    "    input_tensor2 = preprocess(im2.astype(np.uint8))\n",
    "    input_batch2 = input_tensor2.unsqueeze(0)\n",
    "    with torch.no_grad():\n",
    "        output2 = VGG16(input_batch2)\n",
    "    b = output2.numpy()\n",
    "    \n",
    "    dist = np.linalg.norm(a - b)\n",
    "    vgg_test_dist.append(dist)"
   ]
  },
  {
   "cell_type": "code",
   "execution_count": 57,
   "id": "533ebfdc",
   "metadata": {},
   "outputs": [
    {
     "name": "stdout",
     "output_type": "stream",
     "text": [
      "1000\n"
     ]
    }
   ],
   "source": [
    "#Check lenghth of the test_dist\n",
    "print(len(vgg_test_dist))"
   ]
  },
  {
   "cell_type": "code",
   "execution_count": 58,
   "id": "c7fd4efa",
   "metadata": {},
   "outputs": [
    {
     "data": {
      "image/png": "[encoded data removed]",
      "text/plain": [
       "<Figure size 432x288 with 1 Axes>"
      ]
     },
     "metadata": {
      "needs_background": "light"
     },
     "output_type": "display_data"
    }
   ],
   "source": [
    "fpr, tpr, thresholds = metrics.roc_curve(test_labels, vgg_test_dist)\n",
    "plt.plot(fpr,tpr)\n",
    "plt.ylabel('True Positive Rate')\n",
    "plt.xlabel('False Positive Rate')\n",
    "plt.show()"
   ]
  },
  {
   "cell_type": "code",
   "execution_count": 59,
   "id": "32fdfb33",
   "metadata": {},
   "outputs": [
    {
     "name": "stdout",
     "output_type": "stream",
     "text": [
      "AUC Test VGG 16 0.30287600000000003\n"
     ]
    }
   ],
   "source": [
    "AUC = metrics.roc_auc_score(test_labels, vgg_test_dist)\n",
    "print('AUC Test VGG 16', AUC)"
   ]
  },
  {
   "cell_type": "code",
   "execution_count": null,
   "id": "06d91998",
   "metadata": {},
   "outputs": [],
   "source": []
  }
 ],
 "metadata": {
  "kernelspec": {
   "display_name": "Python 3",
   "language": "python",
   "name": "python3"
  },
  "language_info": {
   "codemirror_mode": {
    "name": "ipython",
    "version": 3
   },
   "file_extension": ".py",
   "mimetype": "text/x-python",
   "name": "python",
   "nbconvert_exporter": "python",
   "pygments_lexer": "ipython3",
   "version": "3.7.11"
  }
 },
 "nbformat": 4,
 "nbformat_minor": 5
}
