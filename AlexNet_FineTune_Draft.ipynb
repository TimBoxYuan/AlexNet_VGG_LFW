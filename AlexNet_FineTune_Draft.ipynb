{
 "cells": [
  {
   "cell_type": "code",
   "execution_count": 94,
   "id": "21a5673e",
   "metadata": {},
   "outputs": [],
   "source": [
    "import torch\n",
    "import torch.nn as nn"
   ]
  },
  {
   "cell_type": "code",
   "execution_count": 95,
   "id": "9ebabe3b",
   "metadata": {},
   "outputs": [
    {
     "name": "stderr",
     "output_type": "stream",
     "text": [
      "Using cache found in /Users/boxtim/.cache/torch/hub/pytorch_vision_v0.10.0\n"
     ]
    },
    {
     "data": {
      "text/plain": [
       "AlexNet(\n",
       "  (features): Sequential(\n",
       "    (0): Conv2d(3, 64, kernel_size=(11, 11), stride=(4, 4), padding=(2, 2))\n",
       "    (1): ReLU(inplace=True)\n",
       "    (2): MaxPool2d(kernel_size=3, stride=2, padding=0, dilation=1, ceil_mode=False)\n",
       "    (3): Conv2d(64, 192, kernel_size=(5, 5), stride=(1, 1), padding=(2, 2))\n",
       "    (4): ReLU(inplace=True)\n",
       "    (5): MaxPool2d(kernel_size=3, stride=2, padding=0, dilation=1, ceil_mode=False)\n",
       "    (6): Conv2d(192, 384, kernel_size=(3, 3), stride=(1, 1), padding=(1, 1))\n",
       "    (7): ReLU(inplace=True)\n",
       "    (8): Conv2d(384, 256, kernel_size=(3, 3), stride=(1, 1), padding=(1, 1))\n",
       "    (9): ReLU(inplace=True)\n",
       "    (10): Conv2d(256, 256, kernel_size=(3, 3), stride=(1, 1), padding=(1, 1))\n",
       "    (11): ReLU(inplace=True)\n",
       "    (12): MaxPool2d(kernel_size=3, stride=2, padding=0, dilation=1, ceil_mode=False)\n",
       "  )\n",
       "  (avgpool): AdaptiveAvgPool2d(output_size=(6, 6))\n",
       "  (classifier): Sequential(\n",
       "    (0): Dropout(p=0.5, inplace=False)\n",
       "    (1): Linear(in_features=9216, out_features=4096, bias=True)\n",
       "    (2): ReLU(inplace=True)\n",
       "    (3): Dropout(p=0.5, inplace=False)\n",
       "    (4): Linear(in_features=4096, out_features=4096, bias=True)\n",
       "    (5): ReLU(inplace=True)\n",
       "    (6): Linear(in_features=4096, out_features=1000, bias=True)\n",
       "  )\n",
       ")"
      ]
     },
     "execution_count": 95,
     "metadata": {},
     "output_type": "execute_result"
    }
   ],
   "source": [
    "model = torch.hub.load('pytorch/vision:v0.10.0', 'alexnet', pretrained=True)\n",
    "model.eval()"
   ]
  },
  {
   "cell_type": "code",
   "execution_count": 96,
   "id": "112b2b7a",
   "metadata": {},
   "outputs": [
    {
     "data": {
      "text/plain": [
       "Sequential(\n",
       "  (0): Dropout(p=0.5, inplace=False)\n",
       "  (1): Linear(in_features=9216, out_features=4096, bias=True)\n",
       "  (2): ReLU(inplace=True)\n",
       "  (3): Dropout(p=0.5, inplace=False)\n",
       "  (4): Linear(in_features=4096, out_features=4096, bias=True)\n",
       "  (5): ReLU(inplace=True)\n",
       ")"
      ]
     },
     "execution_count": 96,
     "metadata": {},
     "output_type": "execute_result"
    }
   ],
   "source": [
    "nn.Sequential(*list(model.classifier.children())[:-1])"
   ]
  },
  {
   "cell_type": "code",
   "execution_count": 97,
   "id": "19e64345",
   "metadata": {},
   "outputs": [
    {
     "data": {
      "text/plain": [
       "AlexNet(\n",
       "  (features): Sequential(\n",
       "    (0): Conv2d(3, 64, kernel_size=(11, 11), stride=(4, 4), padding=(2, 2))\n",
       "    (1): ReLU(inplace=True)\n",
       "    (2): MaxPool2d(kernel_size=3, stride=2, padding=0, dilation=1, ceil_mode=False)\n",
       "    (3): Conv2d(64, 192, kernel_size=(5, 5), stride=(1, 1), padding=(2, 2))\n",
       "    (4): ReLU(inplace=True)\n",
       "    (5): MaxPool2d(kernel_size=3, stride=2, padding=0, dilation=1, ceil_mode=False)\n",
       "    (6): Conv2d(192, 384, kernel_size=(3, 3), stride=(1, 1), padding=(1, 1))\n",
       "    (7): ReLU(inplace=True)\n",
       "    (8): Conv2d(384, 256, kernel_size=(3, 3), stride=(1, 1), padding=(1, 1))\n",
       "    (9): ReLU(inplace=True)\n",
       "    (10): Conv2d(256, 256, kernel_size=(3, 3), stride=(1, 1), padding=(1, 1))\n",
       "    (11): ReLU(inplace=True)\n",
       "    (12): MaxPool2d(kernel_size=3, stride=2, padding=0, dilation=1, ceil_mode=False)\n",
       "  )\n",
       "  (avgpool): AdaptiveAvgPool2d(output_size=(6, 6))\n",
       "  (classifier): Sequential(\n",
       "    (0): Dropout(p=0.5, inplace=False)\n",
       "    (1): Linear(in_features=9216, out_features=4096, bias=True)\n",
       "    (2): ReLU(inplace=True)\n",
       "    (3): Dropout(p=0.5, inplace=False)\n",
       "    (4): Linear(in_features=4096, out_features=4096, bias=True)\n",
       "    (5): ReLU(inplace=True)\n",
       "  )\n",
       ")"
      ]
     },
     "execution_count": 97,
     "metadata": {},
     "output_type": "execute_result"
    }
   ],
   "source": [
    "#Fine Tuning AlexNet\n",
    "model.classifier = nn.Sequential(*list(model.classifier.children())[:-1])\n",
    "model.eval()"
   ]
  },
  {
   "cell_type": "code",
   "execution_count": 12,
   "id": "68df0376",
   "metadata": {},
   "outputs": [],
   "source": [
    "#Get Data\n",
    "from sklearn.datasets import fetch_lfw_pairs\n",
    "import matplotlib.pyplot as plt\n",
    "lfw_train = fetch_lfw_pairs(subset = 'train', color = True)"
   ]
  },
  {
   "cell_type": "code",
   "execution_count": 26,
   "id": "2691227c",
   "metadata": {},
   "outputs": [],
   "source": [
    "lfw_test = fetch_lfw_pairs(subset = 'test', color = True)"
   ]
  },
  {
   "cell_type": "code",
   "execution_count": 14,
   "id": "0fb9b1d2",
   "metadata": {},
   "outputs": [
    {
     "data": {
      "text/plain": [
       "(2200, 2, 62, 47, 3)"
      ]
     },
     "execution_count": 14,
     "metadata": {},
     "output_type": "execute_result"
    }
   ],
   "source": [
    "lfw_train.pairs.shape"
   ]
  },
  {
   "cell_type": "code",
   "execution_count": 31,
   "id": "e3fe0f0d",
   "metadata": {},
   "outputs": [
    {
     "data": {
      "text/plain": [
       "(1000, 2, 62, 47, 3)"
      ]
     },
     "execution_count": 31,
     "metadata": {},
     "output_type": "execute_result"
    }
   ],
   "source": [
    "lfw_test.pairs.shape"
   ]
  },
  {
   "cell_type": "code",
   "execution_count": 115,
   "id": "0b07d40f",
   "metadata": {},
   "outputs": [
    {
     "data": {
      "text/plain": [
       "array([[[129.,  98.,  32.],\n",
       "        [161., 123.,  56.],\n",
       "        [182., 144.,  74.],\n",
       "        ...,\n",
       "        [110.,  79.,  16.],\n",
       "        [121.,  91.,  25.],\n",
       "        [127.,  98.,  31.]],\n",
       "\n",
       "       [[147., 117.,  47.],\n",
       "        [176., 138.,  68.],\n",
       "        [192., 153.,  81.],\n",
       "        ...,\n",
       "        [116.,  85.,  19.],\n",
       "        [125.,  94.,  29.],\n",
       "        [117.,  87.,  24.]],\n",
       "\n",
       "       [[166., 134.,  63.],\n",
       "        [188., 151.,  76.],\n",
       "        [198., 159.,  84.],\n",
       "        ...,\n",
       "        [114.,  86.,  15.],\n",
       "        [135., 105.,  38.],\n",
       "        [143., 113.,  49.]],\n",
       "\n",
       "       ...,\n",
       "\n",
       "       [[120., 116.,  71.],\n",
       "        [122., 117.,  74.],\n",
       "        [140., 127.,  82.],\n",
       "        ...,\n",
       "        [199., 181., 125.],\n",
       "        [115., 105.,  60.],\n",
       "        [ 65.,  59.,  24.]],\n",
       "\n",
       "       [[119., 117.,  72.],\n",
       "        [117., 116.,  74.],\n",
       "        [131., 123.,  83.],\n",
       "        ...,\n",
       "        [201., 183., 129.],\n",
       "        [114., 104.,  64.],\n",
       "        [ 63.,  58.,  26.]],\n",
       "\n",
       "       [[119., 116.,  76.],\n",
       "        [114., 117.,  78.],\n",
       "        [120., 118.,  85.],\n",
       "        ...,\n",
       "        [188., 168., 117.],\n",
       "        [105.,  95.,  62.],\n",
       "        [ 62.,  57.,  30.]]], dtype=float32)"
      ]
     },
     "execution_count": 115,
     "metadata": {},
     "output_type": "execute_result"
    }
   ],
   "source": [
    "lfw_train.pairs[1,0,:,:,:]"
   ]
  },
  {
   "cell_type": "code",
   "execution_count": 145,
   "id": "9f7d4c03",
   "metadata": {},
   "outputs": [],
   "source": [
    "im1 = lfw_train.pairs[1,0,:,:,:]"
   ]
  },
  {
   "cell_type": "code",
   "execution_count": 146,
   "id": "2b8e903f",
   "metadata": {},
   "outputs": [],
   "source": [
    "im2 = lfw_train.pairs[1,1,:,:,:]"
   ]
  },
  {
   "cell_type": "code",
   "execution_count": 147,
   "id": "00f16113",
   "metadata": {},
   "outputs": [
    {
     "data": {
      "text/plain": [
       "<matplotlib.image.AxesImage at 0x7f96371a4a50>"
      ]
     },
     "execution_count": 147,
     "metadata": {},
     "output_type": "execute_result"
    },
    {
     "data": {
      "image/png": "[encoded data removed]",
      "text/plain": [
       "<Figure size 432x288 with 1 Axes>"
      ]
     },
     "metadata": {
      "needs_background": "light"
     },
     "output_type": "display_data"
    }
   ],
   "source": [
    "plt.imshow(im2.astype('uint8'))"
   ]
  },
  {
   "cell_type": "code",
   "execution_count": 148,
   "id": "c6f4e925",
   "metadata": {},
   "outputs": [
    {
     "data": {
      "text/plain": [
       "<matplotlib.image.AxesImage at 0x7f96374e5c10>"
      ]
     },
     "execution_count": 148,
     "metadata": {},
     "output_type": "execute_result"
    },
    {
     "data": {
      "image/png": "[encoded data removed]",
      "text/plain": [
       "<Figure size 432x288 with 1 Axes>"
      ]
     },
     "metadata": {
      "needs_background": "light"
     },
     "output_type": "display_data"
    }
   ],
   "source": [
    "plt.imshow(im1.astype('uint8'))"
   ]
  },
  {
   "cell_type": "code",
   "execution_count": 27,
   "id": "161fff75",
   "metadata": {},
   "outputs": [],
   "source": [
    "# Get labels and Individual images\n",
    "train_labels = lfw_train.target\n",
    "test_labels = lfw_test.target"
   ]
  },
  {
   "cell_type": "code",
   "execution_count": 109,
   "id": "00e24148",
   "metadata": {},
   "outputs": [
    {
     "data": {
      "text/plain": [
       "1"
      ]
     },
     "execution_count": 109,
     "metadata": {},
     "output_type": "execute_result"
    }
   ],
   "source": [
    "train_labels[1]"
   ]
  },
  {
   "cell_type": "code",
   "execution_count": 30,
   "id": "a60c89cf",
   "metadata": {},
   "outputs": [
    {
     "data": {
      "text/plain": [
       "(1000,)"
      ]
     },
     "execution_count": 30,
     "metadata": {},
     "output_type": "execute_result"
    }
   ],
   "source": [
    "test_labels.shape"
   ]
  },
  {
   "cell_type": "code",
   "execution_count": 23,
   "id": "a7b7dc32",
   "metadata": {},
   "outputs": [],
   "source": [
    "# Process Image Data\n",
    "from PIL import Image\n",
    "from torchvision import transforms"
   ]
  },
  {
   "cell_type": "code",
   "execution_count": 40,
   "id": "8017a387",
   "metadata": {},
   "outputs": [],
   "source": [
    "preprocess = transforms.Compose([\n",
    "    transforms.ToPILImage(),\n",
    "    transforms.Resize(256),\n",
    "    transforms.CenterCrop(224),\n",
    "    transforms.ToTensor(),\n",
    "    transforms.Normalize(mean=[0.485, 0.456, 0.406], std=[0.229, 0.224, 0.225]),\n",
    "])\n",
    "\n",
    "#input_tensor = preprocess(input_image)\n",
    "#input_batch = input_tensor.unsqueeze(0)"
   ]
  },
  {
   "cell_type": "code",
   "execution_count": 32,
   "id": "a56d8e8c",
   "metadata": {},
   "outputs": [],
   "source": [
    "if torch.cuda.is_available():\n",
    "    input_batch = input_batch.to('cuda')\n",
    "    model.to('cuda')"
   ]
  },
  {
   "cell_type": "code",
   "execution_count": 37,
   "id": "5a6a9106",
   "metadata": {},
   "outputs": [],
   "source": [
    "import numpy as np"
   ]
  },
  {
   "cell_type": "code",
   "execution_count": 149,
   "id": "665b6a8d",
   "metadata": {},
   "outputs": [],
   "source": [
    "input_tensor = preprocess(im1.astype(np.uint8))\n",
    "input_batch = input_tensor.unsqueeze(0)\n",
    "with torch.no_grad():\n",
    "    output1 = model(input_batch)\n",
    "a = output1.numpy()"
   ]
  },
  {
   "cell_type": "code",
   "execution_count": 150,
   "id": "0b78c58b",
   "metadata": {},
   "outputs": [
    {
     "data": {
      "text/plain": [
       "1129.3684"
      ]
     },
     "execution_count": 150,
     "metadata": {},
     "output_type": "execute_result"
    }
   ],
   "source": [
    "np.sum(a)"
   ]
  },
  {
   "cell_type": "code",
   "execution_count": 151,
   "id": "8301beb2",
   "metadata": {},
   "outputs": [],
   "source": [
    "input_tensor2 = preprocess(im2.astype(np.uint8))\n",
    "input_batch2 = input_tensor2.unsqueeze(0)\n",
    "with torch.no_grad():\n",
    "    output2 = model(input_batch2)\n",
    "b = output2.numpy()"
   ]
  },
  {
   "cell_type": "code",
   "execution_count": 152,
   "id": "cebaf7db",
   "metadata": {},
   "outputs": [
    {
     "data": {
      "text/plain": [
       "972.9517"
      ]
     },
     "execution_count": 152,
     "metadata": {},
     "output_type": "execute_result"
    }
   ],
   "source": [
    "np.sum(b)"
   ]
  },
  {
   "cell_type": "code",
   "execution_count": 114,
   "id": "b5bd3ba5",
   "metadata": {},
   "outputs": [
    {
     "name": "stdout",
     "output_type": "stream",
     "text": [
      "36.139404\n"
     ]
    }
   ],
   "source": [
    "dist = np.linalg.norm(a - b)\n",
    " \n",
    "# printing Euclidean distance\n",
    "print(dist)"
   ]
  },
  {
   "cell_type": "code",
   "execution_count": 164,
   "id": "fb557b2a",
   "metadata": {},
   "outputs": [],
   "source": [
    "train_dist = []\n",
    "for idx in range(train_labels.shape[0]):\n",
    "    im1 = lfw_train.pairs[idx,0,:,:,:]\n",
    "    input_tensor = preprocess(im1.astype(np.uint8))\n",
    "    input_batch = input_tensor.unsqueeze(0)\n",
    "    with torch.no_grad():\n",
    "        output1 = model(input_batch)\n",
    "    a = output1.numpy()\n",
    "    \n",
    "    im2 = lfw_train.pairs[idx,1,:,:,:]\n",
    "    input_tensor2 = preprocess(im2.astype(np.uint8))\n",
    "    input_batch2 = input_tensor2.unsqueeze(0)\n",
    "    with torch.no_grad():\n",
    "        output2 = model(input_batch2)\n",
    "    b = output2.numpy()\n",
    "    \n",
    "    dist = np.linalg.norm(a - b)\n",
    "    train_dist.append(dist)"
   ]
  },
  {
   "cell_type": "code",
   "execution_count": 165,
   "id": "629864af",
   "metadata": {},
   "outputs": [
    {
     "data": {
      "text/plain": [
       "2200"
      ]
     },
     "execution_count": 165,
     "metadata": {},
     "output_type": "execute_result"
    }
   ],
   "source": [
    "len(train_dist)"
   ]
  },
  {
   "cell_type": "code",
   "execution_count": 169,
   "id": "2e58d64a",
   "metadata": {},
   "outputs": [],
   "source": [
    "from sklearn import preprocessing\n",
    "#Normalize the list\n",
    "train_dist1 = np.array(train_dist).reshape(-1,1)\n",
    "\n",
    "scaler = preprocessing.MinMaxScaler()\n",
    "norm_train_dist = scaler.fit_transform(train_dist1)"
   ]
  },
  {
   "cell_type": "code",
   "execution_count": 198,
   "id": "53984f7b",
   "metadata": {},
   "outputs": [],
   "source": [
    "train_predict = []\n",
    "for i in norm_train_dist:\n",
    "    if i <= 0.3:\n",
    "        train_predict.append(1)\n",
    "    else:\n",
    "        train_predict.append(0)"
   ]
  },
  {
   "cell_type": "code",
   "execution_count": 199,
   "id": "0747821c",
   "metadata": {},
   "outputs": [
    {
     "data": {
      "text/plain": [
       "array([ True, False,  True, ..., False,  True, False])"
      ]
     },
     "execution_count": 199,
     "metadata": {},
     "output_type": "execute_result"
    }
   ],
   "source": [
    "train_predict == train_labels"
   ]
  },
  {
   "cell_type": "code",
   "execution_count": 200,
   "id": "5b411828",
   "metadata": {},
   "outputs": [
    {
     "data": {
      "text/plain": [
       "0.6313636363636363"
      ]
     },
     "execution_count": 200,
     "metadata": {},
     "output_type": "execute_result"
    }
   ],
   "source": [
    "sum(train_predict == train_labels) / len(train_predict)"
   ]
  },
  {
   "cell_type": "code",
   "execution_count": 201,
   "id": "cc66d08b",
   "metadata": {},
   "outputs": [],
   "source": [
    "#ROC\n",
    "from sklearn import metrics\n",
    "import matplotlib.pyplot as plt"
   ]
  },
  {
   "cell_type": "code",
   "execution_count": 204,
   "id": "1fa65ef4",
   "metadata": {},
   "outputs": [
    {
     "data": {
      "image/png": "[encoded data removed]",
      "text/plain": [
       "<Figure size 432x288 with 1 Axes>"
      ]
     },
     "metadata": {
      "needs_background": "light"
     },
     "output_type": "display_data"
    }
   ],
   "source": [
    "fpr, tpr, thresholds = metrics.roc_curve(train_labels, norm_train_dist)\n",
    "plt.plot(fpr,tpr)\n",
    "plt.ylabel('True Positive Rate')\n",
    "plt.xlabel('False Positive Rate')\n",
    "plt.show()"
   ]
  },
  {
   "cell_type": "code",
   "execution_count": 207,
   "id": "17a583ae",
   "metadata": {},
   "outputs": [
    {
     "name": "stdout",
     "output_type": "stream",
     "text": [
      "AUC 0.3036904958677686\n"
     ]
    }
   ],
   "source": [
    "AUC = metrics.roc_auc_score(train_labels, norm_train_dist)\n",
    "print('AUC', AUC)"
   ]
  },
  {
   "cell_type": "code",
   "execution_count": null,
   "id": "66cfb7ba",
   "metadata": {},
   "outputs": [],
   "source": []
  },
  {
   "cell_type": "code",
   "execution_count": 120,
   "id": "2b155478",
   "metadata": {},
   "outputs": [],
   "source": [
    "from torch.utils.data import Dataset, DataLoader"
   ]
  },
  {
   "cell_type": "code",
   "execution_count": 126,
   "id": "166799b4",
   "metadata": {},
   "outputs": [],
   "source": [
    "# Data Loader\n",
    "\n",
    "class NumberDataset(Dataset):\n",
    "    \n",
    "    def __init__(self, trainSel):\n",
    "        self.trainingData = trainSel\n",
    "        if trainSel ==1:\n",
    "            self.numEntries = len(train_labels)\n",
    "        else:\n",
    "            self.numEntries = len(test_labels)\n",
    "            \n",
    "    def __len__(self):\n",
    "        return self.numEntries\n",
    "    \n",
    "    def __getitem__(self, idx):\n",
    "        if self.trainingData == 1:\n",
    "            singleImage = lfw_train.pairs[idx,0,:,:,:]\n",
    "            im1 = preprocess(singleImage.astype(np.uint8))\n",
    "            image1 = im1.unsqueeze(0)\n",
    "            \n",
    "            secondImage = lfw_train.pairs[idx,1,:,:,:]\n",
    "            im2 = preprocess(secondImage.astype(np.uint8))\n",
    "            image2 = im2.unsqueeze(0)\n",
    "            \n",
    "            label = train_labels[idx]\n",
    "            return image1, image2, label\n",
    "            \n",
    "        else:\n",
    "            \n",
    "            singleImage = lfw_test.pairs[idx,0,:,:,:]\n",
    "            im1 = preprocess(singleImage.astype(np.uint8))\n",
    "            image1 = im1.unsqueeze(0)\n",
    "            \n",
    "            secondImage = lfw_test.pairs[idx,1,:,:,:]\n",
    "            im2 = preprocess(secondImage.astype(np.uint8))\n",
    "            image2 = im2.unsqueeze(0)\n",
    "            \n",
    "            label = test_labels[idx] \n",
    "            \n",
    "            return image1, image2, label\n",
    "        \n",
    "                "
   ]
  },
  {
   "cell_type": "code",
   "execution_count": 127,
   "id": "19153ae8",
   "metadata": {},
   "outputs": [],
   "source": [
    "train_set = NumberDataset(1)\n",
    "train_loader = DataLoader(train_set, batch_size = 60, shuffle = True, num_workers = 0)"
   ]
  },
  {
   "cell_type": "code",
   "execution_count": 128,
   "id": "580fe9cd",
   "metadata": {},
   "outputs": [
    {
     "ename": "ValueError",
     "evalue": "too many values to unpack (expected 2)",
     "output_type": "error",
     "traceback": [
      "\u001b[0;31m---------------------------------------------------------------------------\u001b[0m",
      "\u001b[0;31mValueError\u001b[0m                                Traceback (most recent call last)",
      "\u001b[0;32m/var/folders/21/6wrmtmtj367935mrtsjq9xyc0000gn/T/ipykernel_75985/1799018937.py\u001b[0m in \u001b[0;36m<module>\u001b[0;34m\u001b[0m\n\u001b[1;32m      1\u001b[0m \u001b[0mtrain_distance\u001b[0m \u001b[0;34m=\u001b[0m \u001b[0;34m[\u001b[0m\u001b[0;34m]\u001b[0m\u001b[0;34m\u001b[0m\u001b[0;34m\u001b[0m\u001b[0m\n\u001b[1;32m      2\u001b[0m \u001b[0;32mfor\u001b[0m \u001b[0mi\u001b[0m\u001b[0;34m,\u001b[0m \u001b[0mdata\u001b[0m \u001b[0;32min\u001b[0m \u001b[0menumerate\u001b[0m\u001b[0;34m(\u001b[0m\u001b[0mtrain_loader\u001b[0m\u001b[0;34m,\u001b[0m\u001b[0;36m0\u001b[0m\u001b[0;34m)\u001b[0m\u001b[0;34m:\u001b[0m\u001b[0;34m\u001b[0m\u001b[0;34m\u001b[0m\u001b[0m\n\u001b[0;32m----> 3\u001b[0;31m     \u001b[0minputs\u001b[0m\u001b[0;34m,\u001b[0m \u001b[0mlabels\u001b[0m \u001b[0;34m=\u001b[0m \u001b[0mdata\u001b[0m\u001b[0;34m\u001b[0m\u001b[0;34m\u001b[0m\u001b[0m\n\u001b[0m\u001b[1;32m      4\u001b[0m     \u001b[0minputs\u001b[0m\u001b[0;34m,\u001b[0m \u001b[0mlabels\u001b[0m \u001b[0;34m=\u001b[0m \u001b[0mVariable\u001b[0m\u001b[0;34m(\u001b[0m\u001b[0minputs\u001b[0m\u001b[0;34m)\u001b[0m\u001b[0;34m,\u001b[0m \u001b[0mVariable\u001b[0m\u001b[0;34m(\u001b[0m\u001b[0mlabels\u001b[0m\u001b[0;34m)\u001b[0m\u001b[0;34m\u001b[0m\u001b[0;34m\u001b[0m\u001b[0m\n",
      "\u001b[0;31mValueError\u001b[0m: too many values to unpack (expected 2)"
     ]
    }
   ],
   "source": [
    "train_distance = []\n",
    "for i, data in enumerate(train_loader,0):\n",
    "    inputs, labels = data\n",
    "    inputs, labels = Variable(inputs), Variable(labels)"
   ]
  },
  {
   "cell_type": "code",
   "execution_count": 132,
   "id": "c6e90461",
   "metadata": {},
   "outputs": [
    {
     "data": {
      "text/plain": [
       "torch.Size([1, 3, 224, 224])"
      ]
     },
     "execution_count": 132,
     "metadata": {},
     "output_type": "execute_result"
    }
   ],
   "source": [
    "data[0][1]\n"
   ]
  },
  {
   "cell_type": "code",
   "execution_count": 153,
   "id": "f2277846",
   "metadata": {},
   "outputs": [],
   "source": [
    "with torch.no_grad():\n",
    "    output2 = model(data[0][1])\n",
    "b = output2.numpy()\n",
    "\n"
   ]
  },
  {
   "cell_type": "code",
   "execution_count": 154,
   "id": "2347dfe3",
   "metadata": {},
   "outputs": [
    {
     "data": {
      "text/plain": [
       "977.9174"
      ]
     },
     "execution_count": 154,
     "metadata": {},
     "output_type": "execute_result"
    }
   ],
   "source": [
    "np.sum(b)\n"
   ]
  },
  {
   "cell_type": "code",
   "execution_count": 155,
   "id": "622caa1b",
   "metadata": {},
   "outputs": [
    {
     "data": {
      "text/plain": [
       "torch.Size([1, 3, 224, 224])"
      ]
     },
     "execution_count": 155,
     "metadata": {},
     "output_type": "execute_result"
    }
   ],
   "source": [
    "data[1][1].shape"
   ]
  },
  {
   "cell_type": "code",
   "execution_count": 156,
   "id": "2f985797",
   "metadata": {},
   "outputs": [],
   "source": [
    "with torch.no_grad():\n",
    "    output2 = model(data[1][1])\n",
    "b = output2.numpy()\n",
    "\n"
   ]
  },
  {
   "cell_type": "code",
   "execution_count": 157,
   "id": "38ecdce2",
   "metadata": {},
   "outputs": [
    {
     "data": {
      "text/plain": [
       "1041.5334"
      ]
     },
     "execution_count": 157,
     "metadata": {},
     "output_type": "execute_result"
    }
   ],
   "source": [
    "np.sum(b)\n"
   ]
  },
  {
   "cell_type": "code",
   "execution_count": 160,
   "id": "164880e1",
   "metadata": {},
   "outputs": [],
   "source": [
    "g = lfw_train.pairs[1,0,:,:,:]"
   ]
  },
  {
   "cell_type": "code",
   "execution_count": 161,
   "id": "892d61e6",
   "metadata": {},
   "outputs": [
    {
     "data": {
      "text/plain": [
       "torch.Size([3, 224, 224])"
      ]
     },
     "execution_count": 161,
     "metadata": {},
     "output_type": "execute_result"
    }
   ],
   "source": [
    "preprocess(g.astype(np.uint8)).shape"
   ]
  },
  {
   "cell_type": "code",
   "execution_count": null,
   "id": "9b1226be",
   "metadata": {},
   "outputs": [],
   "source": []
  }
 ],
 "metadata": {
  "kernelspec": {
   "display_name": "Python 3",
   "language": "python",
   "name": "python3"
  },
  "language_info": {
   "codemirror_mode": {
    "name": "ipython",
    "version": 3
   },
   "file_extension": ".py",
   "mimetype": "text/x-python",
   "name": "python",
   "nbconvert_exporter": "python",
   "pygments_lexer": "ipython3",
   "version": "3.7.11"
  }
 },
 "nbformat": 4,
 "nbformat_minor": 5
}
